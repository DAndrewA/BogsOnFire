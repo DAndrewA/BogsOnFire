{
 "cells": [
  {
   "cell_type": "markdown",
   "metadata": {},
   "source": [
    "# Image classification\n",
    "\n",
    "Notebook to produce the classification of regions within the images in northern scotland based on our training data.\n",
    "\n",
    "+ We will start by loading in the classification data, as [lat,lon] coordinates and a classification.\n",
    "+ We will also load in the GEE image, and extracting the appropriate bands, and creating new ones (NDWI, etc) if appropriate.\n",
    "\n",
    "+ We will have to split the classification data into a training set and a validation set.\n",
    "+ We will then train a GEE classifier using the training data, and verify its performance on the validation dataset.\n",
    "+ We will also proceed to classify the rest of the image tiles to determine the burnt regions of the image, etc."
   ]
  },
  {
   "cell_type": "code",
   "execution_count": null,
   "metadata": {},
   "outputs": [],
   "source": [
    "# ee initialisation\n",
    "import ee\n",
    "ee.Initialize()"
   ]
  },
  {
   "cell_type": "code",
   "execution_count": null,
   "metadata": {},
   "outputs": [],
   "source": [
    "# initial imports and parameter initialisation\n",
    "import pandas as pd\n",
    "import numpy as np\n",
    "import xarray as xr\n",
    "\n",
    "import folium\n",
    "import geehydro\n",
    "\n",
    "\n",
    "# intial parameters for the program to run\n",
    "rng = np.random.default_rng(87347234) # seed the random number generator for consistency.\n",
    "classification_file = 'initTest.csv' # file from which the classification data is to be loaded.\n",
    "training_validation_ratio = 0.2 # ratio of classification data to be used in the training dataset. Keep low to avoid overfitting."
   ]
  },
  {
   "cell_type": "markdown",
   "metadata": {},
   "source": [
    "### Load in the classification data\n",
    "\n",
    "The file was created using the produce_classification.py script.\n",
    "\n",
    "The land classifications are:\n",
    "| Classification    | Value |\n",
    "|-------------------|-------|\n",
    "| Peatland          | 1     |\n",
    "| Burnt peatland    | 2     |\n",
    "| Cleared land      | 3     |\n",
    "| Agricultural land | 4     |\n",
    "| Plantation        | 5     |"
   ]
  },
  {
   "cell_type": "code",
   "execution_count": null,
   "metadata": {},
   "outputs": [],
   "source": [
    "########## STEP 1: Load in the classification data\n",
    "classification_data = pd.read_csv(classification_file)\n",
    "\n",
    "lats = classification_data['lat']\n",
    "lons = classification_data['lon']\n",
    "classes = classification_data['classification']\n",
    "\n",
    "# The classification data needs to be converted into a ee.FeatureCollection object.\n",
    "# I will start by creating a list of ee.Feature objects. \n",
    "# These will then be shuffled and split to create the training and validation datasets.\n",
    "# These ee.Feature objects can then be converted into ee.FeatureCollection objects\n",
    "\n",
    "ee_Features = []\n",
    "\n",
    "# generate the list of ee.Features objects \n",
    "for point in zip(lats,lons,classes):\n",
    "    coord = [point[0], point[1]]\n",
    "    feat = ee.Feature(ee.Geometry.Point(coord), {'landcover':point[2]})\n",
    "    ee_Features.append(feat)\n",
    "\n",
    "# randomly shuffle and then split the ee.Features list\n",
    "rng.shuffle(ee_Features)\n",
    "split_index = np.round( len(ee_Features) * training_validation_ratio ).astype(int)\n",
    "\n",
    "ee_Features_training = ee_Features[:split_index]\n",
    "ee_Features_validation = ee_Features[split_index:]\n",
    "\n",
    "# create the feature collections for the training and validation data\n",
    "ee_training = ee.FeatureCollection(ee_Features_training)\n",
    "ee_validation = ee.FeatureCollection(ee_Features_validation)\n",
    "\n",
    "print(ee_training.getInfo())"
   ]
  }
 ],
 "metadata": {
  "kernelspec": {
   "display_name": "Python 3.8.13 ('SENSE')",
   "language": "python",
   "name": "python3"
  },
  "language_info": {
   "name": "python",
   "version": "3.8.13"
  },
  "orig_nbformat": 4,
  "vscode": {
   "interpreter": {
    "hash": "20c25a4cfcb392cc3cc6b7adbf61eb80ed688ffa55711566883c582774ecc0b4"
   }
  }
 },
 "nbformat": 4,
 "nbformat_minor": 2
}
