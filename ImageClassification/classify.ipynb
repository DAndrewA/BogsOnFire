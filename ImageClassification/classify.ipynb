{
 "cells": [
  {
   "cell_type": "markdown",
   "metadata": {},
   "source": [
    "# Image classification\n",
    "\n",
    "Notebook to produce the classification of regions within the images in northern scotland based on our training data.\n",
    "\n",
    "+ We will start by loading in the classification data, as [lat,lon] coordinates and a classification.\n",
    "+ We will also load in the GEE image, and extracting the appropriate bands, and creating new ones (NDWI, etc) if appropriate.\n",
    "\n",
    "+ We will have to split the classification data into a training set and a validation set.\n",
    "+ We will then train a GEE classifier using the training data, and verify its performance on the validation dataset.\n",
    "+ We will also proceed to classify the rest of the image tiles to determine the burnt regions of the image, etc."
   ]
  },
  {
   "cell_type": "code",
   "execution_count": 1,
   "metadata": {},
   "outputs": [],
   "source": [
    "# ee initialisation\n",
    "import ee\n",
    "ee.Initialize()"
   ]
  },
  {
   "cell_type": "code",
   "execution_count": 11,
   "metadata": {},
   "outputs": [],
   "source": [
    "# initial imports and parameter initialisation\n",
    "import pandas as pd\n",
    "import numpy as np\n",
    "import xarray as xr\n",
    "import re\n",
    "\n",
    "import folium\n",
    "import geehydro\n",
    "\n",
    "\n",
    "# intial parameters for the program to run\n",
    "rng = np.random.default_rng(87347234) # seed the random number generator for consistency.\n",
    "classification_file = '../data/classification/master_classification.csv' # file from which the classification data is to be loaded.\n",
    "training_validation_ratio = 0.2 # ratio of classification data to be used in the training dataset. Keep low to avoid overfitting."
   ]
  },
  {
   "cell_type": "markdown",
   "metadata": {},
   "source": [
    "### Load in the classification data\n",
    "\n",
    "The file was created using the produce_classification.py script.\n",
    "\n",
    "The land classifications are:\n",
    "| Classification    | Value |\n",
    "|-------------------|-------|\n",
    "| Peatland          | 1     |\n",
    "| Burnt peatland    | 2     |\n",
    "| Cleared land      | 3     |\n",
    "| Agricultural land | 4     |\n",
    "| Plantation        | 5     |"
   ]
  },
  {
   "cell_type": "code",
   "execution_count": 16,
   "metadata": {},
   "outputs": [
    {
     "ename": "ValueError",
     "evalue": "The truth value of an array with more than one element is ambiguous. Use a.any() or a.all()",
     "output_type": "error",
     "traceback": [
      "\u001b[0;31m---------------------------------------------------------------------------\u001b[0m",
      "\u001b[0;31mValueError\u001b[0m                                Traceback (most recent call last)",
      "\u001b[1;32m/Users/eeasm/Documents/SENSE/BogsOnFire/ImageClassification/classify.ipynb Cell 5\u001b[0m in \u001b[0;36m<cell line: 15>\u001b[0;34m()\u001b[0m\n\u001b[1;32m     <a href='vscode-notebook-cell:/Users/eeasm/Documents/SENSE/BogsOnFire/ImageClassification/classify.ipynb#W6sZmlsZQ%3D%3D?line=18'>19</a>\u001b[0m     lat \u001b[39m=\u001b[39m \u001b[39mfloat\u001b[39m(coord[\u001b[39m1\u001b[39m][:\u001b[39m-\u001b[39m\u001b[39m1\u001b[39m])\n\u001b[1;32m     <a href='vscode-notebook-cell:/Users/eeasm/Documents/SENSE/BogsOnFire/ImageClassification/classify.ipynb#W6sZmlsZQ%3D%3D?line=19'>20</a>\u001b[0m     coord \u001b[39m=\u001b[39m np\u001b[39m.\u001b[39marray([lat, lon])\n\u001b[0;32m---> <a href='vscode-notebook-cell:/Users/eeasm/Documents/SENSE/BogsOnFire/ImageClassification/classify.ipynb#W6sZmlsZQ%3D%3D?line=21'>22</a>\u001b[0m     feat \u001b[39m=\u001b[39m ee\u001b[39m.\u001b[39mFeature(ee\u001b[39m.\u001b[39;49mGeometry\u001b[39m.\u001b[39;49mPoint(coord), {\u001b[39m'\u001b[39m\u001b[39mlandcover\u001b[39m\u001b[39m'\u001b[39m:point[\u001b[39m1\u001b[39m]})\n\u001b[1;32m     <a href='vscode-notebook-cell:/Users/eeasm/Documents/SENSE/BogsOnFire/ImageClassification/classify.ipynb#W6sZmlsZQ%3D%3D?line=22'>23</a>\u001b[0m     ee_Features\u001b[39m.\u001b[39mappend(feat)\n\u001b[1;32m     <a href='vscode-notebook-cell:/Users/eeasm/Documents/SENSE/BogsOnFire/ImageClassification/classify.ipynb#W6sZmlsZQ%3D%3D?line=24'>25</a>\u001b[0m \u001b[39m# randomly shuffle and then split the ee.Features list\u001b[39;00m\n",
      "File \u001b[0;32m~/opt/anaconda3/envs/SENSE/lib/python3.8/site-packages/ee/geometry.py:188\u001b[0m, in \u001b[0;36mGeometry.Point\u001b[0;34m(coords, proj, *args, **kwargs)\u001b[0m\n\u001b[1;32m    170\u001b[0m \u001b[39m@staticmethod\u001b[39m\n\u001b[1;32m    171\u001b[0m \u001b[39mdef\u001b[39;00m \u001b[39mPoint\u001b[39m(coords\u001b[39m=\u001b[39m_UNSPECIFIED, proj\u001b[39m=\u001b[39m_UNSPECIFIED, \u001b[39m*\u001b[39margs, \u001b[39m*\u001b[39m\u001b[39m*\u001b[39mkwargs):\n\u001b[1;32m    172\u001b[0m   \u001b[39m\"\"\"Constructs an ee.Geometry describing a point.\u001b[39;00m\n\u001b[1;32m    173\u001b[0m \n\u001b[1;32m    174\u001b[0m \u001b[39m  Args:\u001b[39;00m\n\u001b[0;32m   (...)\u001b[0m\n\u001b[1;32m    184\u001b[0m \u001b[39m    An ee.Geometry describing a point.\u001b[39;00m\n\u001b[1;32m    185\u001b[0m \u001b[39m  \"\"\"\u001b[39;00m\n\u001b[1;32m    186\u001b[0m   init \u001b[39m=\u001b[39m Geometry\u001b[39m.\u001b[39m_parseArgs(\n\u001b[1;32m    187\u001b[0m       \u001b[39m'\u001b[39m\u001b[39mPoint\u001b[39m\u001b[39m'\u001b[39m, \u001b[39m1\u001b[39m,\n\u001b[0;32m--> 188\u001b[0m       Geometry\u001b[39m.\u001b[39;49m_GetSpecifiedArgs((coords, proj) \u001b[39m+\u001b[39;49m args, (\u001b[39m'\u001b[39;49m\u001b[39mlon\u001b[39;49m\u001b[39m'\u001b[39;49m, \u001b[39m'\u001b[39;49m\u001b[39mlat\u001b[39;49m\u001b[39m'\u001b[39;49m),\n\u001b[1;32m    189\u001b[0m                                  \u001b[39m*\u001b[39;49m\u001b[39m*\u001b[39;49mkwargs))\n\u001b[1;32m    190\u001b[0m   \u001b[39mif\u001b[39;00m \u001b[39mnot\u001b[39;00m \u001b[39misinstance\u001b[39m(init, computedobject\u001b[39m.\u001b[39mComputedObject):\n\u001b[1;32m    191\u001b[0m     xy \u001b[39m=\u001b[39m init[\u001b[39m'\u001b[39m\u001b[39mcoordinates\u001b[39m\u001b[39m'\u001b[39m]\n",
      "File \u001b[0;32m~/opt/anaconda3/envs/SENSE/lib/python3.8/site-packages/ee/geometry.py:840\u001b[0m, in \u001b[0;36mGeometry._GetSpecifiedArgs\u001b[0;34m(args, keywords, **kwargs)\u001b[0m\n\u001b[1;32m    838\u001b[0m       \u001b[39massert\u001b[39;00m args[i] \u001b[39mis\u001b[39;00m _UNSPECIFIED\n\u001b[1;32m    839\u001b[0m       args[i] \u001b[39m=\u001b[39m kwargs[keyword]\n\u001b[0;32m--> 840\u001b[0m \u001b[39mreturn\u001b[39;00m [i \u001b[39mfor\u001b[39;00m i \u001b[39min\u001b[39;00m args \u001b[39mif\u001b[39;00m i \u001b[39m!=\u001b[39m _UNSPECIFIED]\n",
      "File \u001b[0;32m~/opt/anaconda3/envs/SENSE/lib/python3.8/site-packages/ee/geometry.py:840\u001b[0m, in \u001b[0;36m<listcomp>\u001b[0;34m(.0)\u001b[0m\n\u001b[1;32m    838\u001b[0m       \u001b[39massert\u001b[39;00m args[i] \u001b[39mis\u001b[39;00m _UNSPECIFIED\n\u001b[1;32m    839\u001b[0m       args[i] \u001b[39m=\u001b[39m kwargs[keyword]\n\u001b[0;32m--> 840\u001b[0m \u001b[39mreturn\u001b[39;00m [i \u001b[39mfor\u001b[39;00m i \u001b[39min\u001b[39;00m args \u001b[39mif\u001b[39;00m i \u001b[39m!=\u001b[39m _UNSPECIFIED]\n",
      "\u001b[0;31mValueError\u001b[0m: The truth value of an array with more than one element is ambiguous. Use a.any() or a.all()"
     ]
    }
   ],
   "source": [
    "########## STEP 1: Load in the classification data\n",
    "classification_data = pd.read_csv(classification_file)\n",
    "\n",
    "coords = classification_data['coords']\n",
    "classes = classification_data['classification']\n",
    "\n",
    "# The classification data needs to be converted into a ee.FeatureCollection object.\n",
    "# I will start by creating a list of ee.Feature objects. \n",
    "# These will then be shuffled and split to create the training and validation datasets.\n",
    "# These ee.Feature objects can then be converted into ee.FeatureCollection objects\n",
    "\n",
    "ee_Features = []\n",
    "\n",
    "# generate the list of ee.Features objects \n",
    "for point in zip(coords,classes):\n",
    "    # convert the string coordinate of the csv to an array\n",
    "    coord = point[0].split(',')\n",
    "    lon = float(coord[0][1:])\n",
    "    lat = float(coord[1][:-1])\n",
    "    coord = np.array([lon, lat])\n",
    "    \n",
    "    feat = ee.Feature(ee.Geometry.Point(coord), {'landcover':point[1]})\n",
    "    ee_Features.append(feat)\n",
    "\n",
    "# randomly shuffle and then split the ee.Features list\n",
    "rng.shuffle(ee_Features)\n",
    "split_index = np.round( len(ee_Features) * training_validation_ratio ).astype(int)\n",
    "\n",
    "ee_Features_training = ee_Features[:split_index]\n",
    "ee_Features_validation = ee_Features[split_index:]\n",
    "\n",
    "# create the feature collections for the training and validation data\n",
    "ee_training = ee.FeatureCollection(ee_Features_training)\n",
    "ee_validation = ee.FeatureCollection(ee_Features_validation)\n",
    "\n",
    "print(ee_training.getInfo())"
   ]
  }
 ],
 "metadata": {
  "kernelspec": {
   "display_name": "Python 3.8.13 ('SENSE')",
   "language": "python",
   "name": "python3"
  },
  "language_info": {
   "codemirror_mode": {
    "name": "ipython",
    "version": 3
   },
   "file_extension": ".py",
   "mimetype": "text/x-python",
   "name": "python",
   "nbconvert_exporter": "python",
   "pygments_lexer": "ipython3",
   "version": "3.8.13"
  },
  "orig_nbformat": 4,
  "vscode": {
   "interpreter": {
    "hash": "20c25a4cfcb392cc3cc6b7adbf61eb80ed688ffa55711566883c582774ecc0b4"
   }
  }
 },
 "nbformat": 4,
 "nbformat_minor": 2
}
