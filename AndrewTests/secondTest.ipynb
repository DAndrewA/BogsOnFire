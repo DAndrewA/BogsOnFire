{
 "cells": [
  {
   "cell_type": "markdown",
   "metadata": {},
   "source": [
    "# Test to see how the data objects in GEE are structured"
   ]
  },
  {
   "cell_type": "code",
   "execution_count": 1,
   "metadata": {},
   "outputs": [],
   "source": [
    "# module imports\n",
    "import numpy as np\n",
    "import pandas as pd\n",
    "import xarray as xr\n",
    "\n",
    "import matplotlib as mpl\n",
    "import matplotlib.pyplot as plt\n",
    "\n",
    "import ee\n",
    "import geemap\n",
    "\n",
    "ee.Initialize()"
   ]
  },
  {
   "cell_type": "code",
   "execution_count": 2,
   "metadata": {},
   "outputs": [
    {
     "name": "stdout",
     "output_type": "stream",
     "text": [
      "ee.Image({\n",
      "  \"functionInvocationValue\": {\n",
      "    \"functionName\": \"Image.load\",\n",
      "    \"arguments\": {\n",
      "      \"id\": {\n",
      "        \"constantValue\": \"USGS/SRTMGL1_003\"\n",
      "      }\n",
      "    }\n",
      "  }\n",
      "})\n"
     ]
    },
    {
     "data": {
      "text/plain": [
       "<ee.image.Image at 0x7fbae8b98d90>"
      ]
     },
     "execution_count": 2,
     "metadata": {},
     "output_type": "execute_result"
    }
   ],
   "source": [
    "im = ee.Image('USGS/SRTMGL1_003') # loads in a single SRTM Image\n",
    "print(im)\n",
    "bnames = im.bandNames\n",
    "im.visualize()\n"
   ]
  }
 ],
 "metadata": {
  "kernelspec": {
   "display_name": "Python 3.8.13 ('SENSE')",
   "language": "python",
   "name": "python3"
  },
  "language_info": {
   "codemirror_mode": {
    "name": "ipython",
    "version": 3
   },
   "file_extension": ".py",
   "mimetype": "text/x-python",
   "name": "python",
   "nbconvert_exporter": "python",
   "pygments_lexer": "ipython3",
   "version": "3.8.13"
  },
  "orig_nbformat": 4,
  "vscode": {
   "interpreter": {
    "hash": "20c25a4cfcb392cc3cc6b7adbf61eb80ed688ffa55711566883c582774ecc0b4"
   }
  }
 },
 "nbformat": 4,
 "nbformat_minor": 2
}
